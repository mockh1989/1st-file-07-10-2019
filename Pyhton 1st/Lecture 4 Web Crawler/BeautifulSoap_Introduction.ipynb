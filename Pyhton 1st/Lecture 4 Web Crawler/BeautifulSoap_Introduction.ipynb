{
 "cells": [
  {
   "cell_type": "code",
   "execution_count": null,
   "metadata": {},
   "outputs": [],
   "source": [
    "#track_414885 > div.item.club-list-row > div > div.column.column-02 > div.line.line-01 > a"
   ]
  },
  {
   "cell_type": "code",
   "execution_count": 4,
   "metadata": {},
   "outputs": [],
   "source": [
    "import requests\n",
    "from bs4 import BeautifulSoup"
   ]
  },
  {
   "cell_type": "code",
   "execution_count": 6,
   "metadata": {},
   "outputs": [],
   "source": [
    "r = requests.get(\"https://www.price.com.hk/search.php?g=A&q=Dyson&s=C\").text"
   ]
  },
  {
   "cell_type": "code",
   "execution_count": 7,
   "metadata": {},
   "outputs": [
    {
     "data": {
      "text/plain": [
       "['16']"
      ]
     },
     "execution_count": 7,
     "metadata": {},
     "output_type": "execute_result"
    }
   ],
   "source": [
    "[i for i in \"共 16 頁\".split(\" \") if i.isdigit()]"
   ]
  },
  {
   "cell_type": "code",
   "execution_count": 8,
   "metadata": {},
   "outputs": [
    {
     "data": {
      "text/plain": [
       "False"
      ]
     },
     "execution_count": 8,
     "metadata": {},
     "output_type": "execute_result"
    }
   ],
   "source": [
    "\"共 16 頁\".isdigit()"
   ]
  },
  {
   "cell_type": "code",
   "execution_count": 9,
   "metadata": {},
   "outputs": [],
   "source": [
    "soup = BeautifulSoup(r, 'html.parser')"
   ]
  },
  {
   "cell_type": "code",
   "execution_count": 10,
   "metadata": {},
   "outputs": [],
   "source": [
    "father = soup.body"
   ]
  },
  {
   "cell_type": "code",
   "execution_count": 12,
   "metadata": {},
   "outputs": [],
   "source": [
    "son = father.find(\"div\", {\"class\":\"page-view-wrapper\"}).find(\"ul\", {\"tag\":\"product-list\"}).find_all(\"div\",{\"class\": \"item club-list-row\"})"
   ]
  },
  {
   "cell_type": "code",
   "execution_count": 15,
   "metadata": {},
   "outputs": [
    {
     "name": "stdout",
     "output_type": "stream",
     "text": [
      "\n",
      "\n",
      "\n",
      "Dyson Pure Hot+Cool Cryptomic 三合一風扇暖風空氣清新機 HP06\n",
      "\n",
      "\n",
      "Dyson 無線吸塵機 V11 Fluffy\n",
      "\n",
      "\n",
      "Dyson Supersonic 升級版風筒 HD03\n",
      "\n",
      "Dyson Cyclone V10 Motorhead\n",
      "\n",
      "\n",
      "Dyson HP04\n",
      "\n",
      "\n",
      "Dyson AM09\n",
      "\n",
      "Dyson Cyclone V10 Fluffy\n",
      "\n",
      "Dyson 無線吸塵機 V11 Absolute\n",
      "\n",
      "\n",
      "Dyson Supersonic HD01\n",
      "\n",
      "Dyson Rechargeable Battery (965874-02)\n",
      "\n",
      "\n",
      "Dyson Airwrap Complete 造型器\n",
      "\n",
      "Dyson Cyclone V10 Absolute\n",
      "\n",
      "\n",
      "Dyson Pure 空氣清新機濾網 (適用於 Dyson Pure Cool Link DP01 / DP03 及 Dyson Pure Hot+Cool Link HP00 / HP02 / HP03)\n",
      "\n",
      "\n",
      "Dyson 二合一智能空氣淨化風扇 (座地式) TP04\n",
      "\n",
      "Dyson V8 Fluffy\n"
     ]
    }
   ],
   "source": [
    "for i in range(len(son)):\n",
    "    print(son[i].find(\"div\", {\"class\": \"line line-01\"}).text)"
   ]
  },
  {
   "cell_type": "code",
   "execution_count": 16,
   "metadata": {},
   "outputs": [
    {
     "data": {
      "text/plain": [
       "'\\n\\n\\nDyson Pure Hot+Cool Cryptomic 三合一風扇暖風空氣清新機 HP06'"
      ]
     },
     "execution_count": 16,
     "metadata": {},
     "output_type": "execute_result"
    }
   ],
   "source": [
    "son[0].find(\"div\", {\"class\": \"line line-01\"}).text"
   ]
  },
  {
   "cell_type": "code",
   "execution_count": 17,
   "metadata": {},
   "outputs": [
    {
     "name": "stdout",
     "output_type": "stream",
     "text": [
      "None\n"
     ]
    }
   ],
   "source": [
    "print(soup.findNext(\"div\", {\"class\":\"page-view-wrapper\"}))"
   ]
  },
  {
   "cell_type": "code",
   "execution_count": 23,
   "metadata": {},
   "outputs": [
    {
     "name": "stdout",
     "output_type": "stream",
     "text": [
      "None\n"
     ]
    }
   ],
   "source": [
    "print(soup.find(\"body\").find('div',{'class':'5'}))"
   ]
  },
  {
   "cell_type": "code",
   "execution_count": null,
   "metadata": {},
   "outputs": [],
   "source": []
  }
 ],
 "metadata": {
  "kernelspec": {
   "display_name": "Python 3",
   "language": "python",
   "name": "python3"
  },
  "language_info": {
   "codemirror_mode": {
    "name": "ipython",
    "version": 3
   },
   "file_extension": ".py",
   "mimetype": "text/x-python",
   "name": "python",
   "nbconvert_exporter": "python",
   "pygments_lexer": "ipython3",
   "version": "3.7.3"
  }
 },
 "nbformat": 4,
 "nbformat_minor": 2
}
