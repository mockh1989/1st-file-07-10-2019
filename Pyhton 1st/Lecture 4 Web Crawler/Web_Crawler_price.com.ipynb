{
 "cells": [
  {
   "cell_type": "code",
   "execution_count": 3,
   "metadata": {},
   "outputs": [],
   "source": [
    "import requests \n",
    "from bs4 import BeautifulSoup"
   ]
  },
  {
   "cell_type": "code",
   "execution_count": 4,
   "metadata": {},
   "outputs": [],
   "source": [
    "html_text = requests.get('https://www.price.com.hk/search.php?g=A&q=dyson&page=1').text"
   ]
  },
  {
   "cell_type": "code",
   "execution_count": 5,
   "metadata": {},
   "outputs": [
    {
     "data": {
      "text/plain": [
       "True"
      ]
     },
     "execution_count": 5,
     "metadata": {},
     "output_type": "execute_result"
    }
   ],
   "source": [
    "'Dyson Supersonic 升級版風筒 HD03' in html_text"
   ]
  },
  {
   "cell_type": "code",
   "execution_count": 6,
   "metadata": {},
   "outputs": [],
   "source": [
    "bs = BeautifulSoup(html_text, 'lxml')"
   ]
  },
  {
   "cell_type": "code",
   "execution_count": 7,
   "metadata": {},
   "outputs": [
    {
     "data": {
      "text/plain": [
       "<meta content=\"價格,數碼,影音,遊戲,相機,電腦,硬件,電器,手提電話,手機,價目,價目表,價格比較,Price,Uwants,Discuss,格價網,產品格價,價錢,shopping,price list\" name=\"keywords\"/>"
      ]
     },
     "execution_count": 7,
     "metadata": {},
     "output_type": "execute_result"
    }
   ],
   "source": [
    "bs.find(\"meta\")"
   ]
  },
  {
   "cell_type": "code",
   "execution_count": 8,
   "metadata": {},
   "outputs": [
    {
     "data": {
      "text/plain": [
       "[<meta content=\"價格,數碼,影音,遊戲,相機,電腦,硬件,電器,手提電話,手機,價目,價目表,價格比較,Price,Uwants,Discuss,格價網,產品格價,價錢,shopping,price list\" name=\"keywords\"/>,\n",
       " <meta content=\"Price 為香港No.1格價網站，提供多元化的產品或服務資訊、價格及用家評價等，讓精明的消費者在選購前能有充足的了解，並格至最抵價。產品或服務類型包括手提電話、電腦、家庭電器、玩具、嬰兒用品、手袋皮具、旅行套票、餐飲、美容等。Price 兼有二手買賣功能，讓用戶可以隨時去舊迎新。\" name=\"description\"/>,\n",
       " <meta name=\"ir-site-verification-token\" value=\"1535863020\"/>,\n",
       " <meta content=\"text/html; charset=utf-8\" http-equiv=\"Content-Type\"/>,\n",
       " <meta content=\"IE=edge\" http-equiv=\"X-UA-Compatible\"/>]"
      ]
     },
     "execution_count": 8,
     "metadata": {},
     "output_type": "execute_result"
    }
   ],
   "source": [
    "bs.find_all(\"meta\")"
   ]
  },
  {
   "cell_type": "code",
   "execution_count": 9,
   "metadata": {},
   "outputs": [
    {
     "data": {
      "text/plain": [
       "bs4.element.Tag"
      ]
     },
     "execution_count": 9,
     "metadata": {},
     "output_type": "execute_result"
    }
   ],
   "source": [
    "type(bs.find_all('script',{'type':'text/javascript'})[0])"
   ]
  },
  {
   "cell_type": "code",
   "execution_count": 10,
   "metadata": {},
   "outputs": [
    {
     "data": {
      "text/plain": [
       "'有關 《dyson》的搜尋結果 - 香港格價網 Price.com.hk'"
      ]
     },
     "execution_count": 10,
     "metadata": {},
     "output_type": "execute_result"
    }
   ],
   "source": [
    "bs.find(\"head\").find('title').text"
   ]
  },
  {
   "cell_type": "code",
   "execution_count": 11,
   "metadata": {},
   "outputs": [
    {
     "name": "stdout",
     "output_type": "stream",
     "text": [
      "Dyson Pure Hot+Cool Cryptomic 三合一風扇暖風空氣清新機 HP06\n",
      "Dyson Pure Hot+Cool Cryptomic 三合一風扇暖風空氣清新機 HP06\n",
      "Dyson 無線吸塵機 V11 Fluffy\n",
      "Dyson 無線吸塵機 V11 Fluffy\n",
      "Dyson Supersonic 升級版風筒 HD03\n",
      "Dyson Supersonic 升級版風筒 HD03\n",
      "Dyson Cyclone V10 Motorhead\n",
      "Dyson Cyclone V10 Motorhead\n",
      "Dyson HP04\n",
      "Dyson HP04\n",
      "Dyson AM09\n",
      "Dyson AM09\n",
      "Dyson Cyclone V10 Fluffy\n",
      "Dyson Cyclone V10 Fluffy\n",
      "Dyson 無線吸塵機 V11 Absolute\n",
      "Dyson 無線吸塵機 V11 Absolute\n",
      "Dyson Supersonic HD01\n",
      "Dyson Supersonic HD01\n",
      "Dyson Rechargeable Battery (965874-02)\n",
      "Dyson Rechargeable Battery (965874-02)\n",
      "Dyson Airwrap Complete 造型器\n",
      "Dyson Airwrap Complete 造型器\n",
      "Dyson Cyclone V10 Absolute\n",
      "Dyson Cyclone V10 Absolute\n",
      "Dyson Pure 空氣清新機濾網 (適用於 Dyson Pure Cool Link DP01 / DP03 及 Dyson Pure Hot+Cool Link HP00 / HP02 / HP03)\n",
      "Dyson Pure 空氣清新機濾網 (適用於 Dyson Pure Cool Link DP01 / DP03 及 Dyson Pure Hot+Cool Link HP00 / HP02 / HP03)\n",
      "Dyson 二合一智能空氣淨化風扇 (座地式) TP04\n",
      "Dyson 二合一智能空氣淨化風扇 (座地式) TP04\n",
      "Dyson V8 Fluffy\n",
      "Dyson V8 Fluffy\n"
     ]
    }
   ],
   "source": [
    "for i in bs.find_all('div',{'class':'item-inner'}):\n",
    "    print(i.find('div',{'class':'line line-01'}).text.strip())\n",
    "    print(i.find('div',{'class':'line line-01'}).text.strip())"
   ]
  },
  {
   "cell_type": "code",
   "execution_count": 68,
   "metadata": {},
   "outputs": [],
   "source": [
    "# <div class=\"pagination-total\"><span>共 484 頁</span></div>\n",
    "total_page = int(bs.find('div',{'class':'pagination-total'}).text[2:-2])"
   ]
  },
  {
   "cell_type": "code",
   "execution_count": 52,
   "metadata": {},
   "outputs": [
    {
     "data": {
      "text/plain": [
       "[<span class=\"text-arrow\">◀</span>,\n",
       " <span class=\"text-arrow\">▶</span>,\n",
       " <span class=\"text-arrow\">▶▏</span>]"
      ]
     },
     "execution_count": 52,
     "metadata": {},
     "output_type": "execute_result"
    }
   ],
   "source": [
    "bs.find_all('span',{'class':'text-arrow'})"
   ]
  },
  {
   "cell_type": "code",
   "execution_count": 72,
   "metadata": {},
   "outputs": [
    {
     "data": {
      "text/plain": [
       "<a href=\"/search.php?g=A&amp;q=dyson&amp;page=16\"><span class=\"text-arrow\">▶▏</span></a>"
      ]
     },
     "execution_count": 72,
     "metadata": {},
     "output_type": "execute_result"
    }
   ],
   "source": [
    "bs.find_all('span',{'class':'text-arrow'})[-1].parent"
   ]
  },
  {
   "cell_type": "code",
   "execution_count": 58,
   "metadata": {},
   "outputs": [
    {
     "data": {
      "text/plain": [
       "'/search.php?g=A&q=dyson&page=16'"
      ]
     },
     "execution_count": 58,
     "metadata": {},
     "output_type": "execute_result"
    }
   ],
   "source": [
    "# <span class=\"text-arrow\">▶▏</span>\n",
    "bs.find_all('span',{'class':'text-arrow'})[-1].parent['href'].split('=')[-1"
   ]
  },
  {
   "cell_type": "code",
   "execution_count": 36,
   "metadata": {},
   "outputs": [
    {
     "data": {
      "text/plain": [
       "<div class=\"line line-01\">\n",
       "<div class=\"search-wrapper\">\n",
       "<div class=\"search-box\">\n",
       "<form action=\"/search.php\" onsubmit=\"this.q.value = this.q.value.replace(/ +(?= )/g,''); return checkSearchBoxSubmit(this,'請輸入搜尋關鍵字。')\">\n",
       "<div class=\"part-01\">\n",
       "<select class=\"selecter-1 form-control form-control-john\" id=\"searchg\" name=\"g\">\n",
       "<option selected=\"\" value=\"A\">所有資料</option>\n",
       "<option value=\"M\">商戶</option>\n",
       "<option value=\"N\">情報</option> <option value=\"T\">二手</option> <option value=\"E\">限時/網購</option> <optgroup label=\"通訊\">\n",
       "<option value=\"10\">手提電話</option>\n",
       "<option value=\"11\">手提電話配件</option>\n",
       "<option value=\"12\">其他</option>\n",
       "</optgroup>\n",
       "<optgroup label=\"攝影\">\n",
       "<option value=\"13\">相機</option>\n",
       "<option value=\"14\">相機配件</option>\n",
       "</optgroup>\n",
       "<optgroup label=\"影音\">\n",
       "<option value=\"15\">影視</option>\n",
       "<option value=\"16\">音響</option>\n",
       "<option value=\"17\">數碼</option>\n",
       "<option value=\"41\">其他</option>\n",
       "</optgroup>\n",
       "<optgroup label=\"電腦\">\n",
       "<option value=\"18\">流動</option>\n",
       "<option value=\"19\">家用 &amp; 辦公室</option>\n",
       "<option value=\"20\">組件</option>\n",
       "<option value=\"21\">周邊</option>\n",
       "<option value=\"22\">打印</option>\n",
       "<option value=\"23\">網絡</option>\n",
       "<option value=\"24\">儲存</option>\n",
       "<option value=\"71\">電競</option>\n",
       "<option value=\"25\">其他電腦產品</option>\n",
       "</optgroup>\n",
       "<optgroup label=\"家居\">\n",
       "<option value=\"26\">家庭電器</option>\n",
       "<option value=\"27\">廚房</option>\n",
       "<option value=\"69\">浴室</option>\n",
       "<option value=\"42\">健康 護理</option>\n",
       "<option value=\"62\">其他</option>\n",
       "</optgroup>\n",
       "<optgroup label=\"生活\">\n",
       "<option value=\"66\">理財 By MoneySmart</option>\n",
       "<option value=\"67\">寵物</option>\n",
       "<option value=\"43\">汽車用品</option>\n",
       "<option value=\"44\">時尚</option>\n",
       "<option value=\"46\">鐘錶</option>\n",
       "<option value=\"47\">單車</option>\n",
       "<option value=\"49\">戶外用品</option>\n",
       "<option value=\"48\">自助餐</option>\n",
       "<option value=\"64\">酒類</option>\n",
       "<option value=\"75\">成人用品</option>\n",
       "<option value=\"87\">活動及服務</option>\n",
       "</optgroup>\n",
       "<optgroup label=\"遊戲\">\n",
       "<option value=\"31\">電玩</option>\n",
       "<option value=\"33\">玩具</option>\n",
       "<option value=\"59\">模型</option>\n",
       "</optgroup>\n",
       "<optgroup label=\"母嬰\">\n",
       "<option value=\"84\">孕婦</option>\n",
       "<option value=\"34\">家具</option>\n",
       "<option value=\"86\">床品</option>\n",
       "<option value=\"36\">衛浴 護理</option>\n",
       "<option value=\"35\">哺育</option>\n",
       "<option value=\"37\">外出用品</option>\n",
       "<option value=\"38\">安全用品</option>\n",
       "<option value=\"39\">學習 玩具</option>\n",
       "</optgroup>\n",
       "<optgroup label=\"美容\">\n",
       "<option value=\"53\">潔面</option>\n",
       "<option value=\"54\">護膚品</option>\n",
       "<option value=\"55\">化妝品</option>\n",
       "<option value=\"56\">美容 &amp; 化妝工具</option>\n",
       "<option value=\"57\">身體護理</option>\n",
       "<option value=\"58\">服務</option>\n",
       "<option value=\"65\">指甲用品</option>\n",
       "</optgroup>\n",
       "<optgroup label=\"旅遊\">\n",
       "<option value=\"50\">旅行團</option>\n",
       "<option value=\"60\">旅遊用品</option>\n",
       "</optgroup>\n",
       "</select>\n",
       "</div>\n",
       "<div class=\"part-02\">\n",
       "<input autocomplete=\"off\" class=\"form-control\" id=\"searchq\" maxlength=\"200\" name=\"q\" type=\"text\"/>\n",
       "<div class=\"keyword-search-box\" id=\"searchres\"></div>\n",
       "<div class=\"keyword-search-history\" id=\"history\"></div>\n",
       "</div>\n",
       "<script type=\"text/javascript\">\n",
       "\t\t\t\t\t\t\t$('#searchq').val('dyson');\n",
       "\t\t\t\t\t\t\t$('#searchq').prop('placeholder',\"搜索 商品 / 服務 / 品牌 / 商戶\");\n",
       "\t\t\t\t\t\t </script>\n",
       "<div class=\"part-03\">\n",
       "<button class=\"btn btn-block\" id=\"btn-search\" type=\"submit\"><span aria-hidden=\"true\" class=\"glyphicon glyphicon-search\"></span></button>\n",
       "</div>\n",
       "</form>\n",
       "</div>\n",
       "</div>\n",
       "</div>"
      ]
     },
     "execution_count": 36,
     "metadata": {},
     "output_type": "execute_result"
    }
   ],
   "source": [
    "bs.find_all('div',{'class':'line line-01'})"
   ]
  },
  {
   "cell_type": "code",
   "execution_count": 33,
   "metadata": {},
   "outputs": [],
   "source": [
    "class BankAccount:\n",
    "    def __init__(self, balance=0):\n",
    "        self.balance = balance\n",
    "        \n",
    "    def __str__(self):\n",
    "        return 'current balance: ' + str(self.balance)\n",
    "    \n",
    "    def print_balance(self):\n",
    "        print('current balance:', self.balance)\n",
    "        \n",
    "    def deposit(self, amount):\n",
    "        self.balance += amount\n",
    "        self.print_balance()\n",
    "        \n",
    "    def withdraw(self, amount):\n",
    "        self.balance -= amount\n",
    "        self.print_balance()"
   ]
  },
  {
   "cell_type": "code",
   "execution_count": null,
   "metadata": {},
   "outputs": [],
   "source": [
    "l = list()\n",
    "l.append(BankAccount())"
   ]
  },
  {
   "cell_type": "code",
   "execution_count": null,
   "metadata": {},
   "outputs": [],
   "source": [
    "list_bankaccount = list()\n",
    "list_bankaccount.append(account1)\n",
    "list_bankaccount.append(account2)"
   ]
  },
  {
   "cell_type": "code",
   "execution_count": 34,
   "metadata": {},
   "outputs": [
    {
     "name": "stdout",
     "output_type": "stream",
     "text": [
      "current balance: 0\n"
     ]
    }
   ],
   "source": [
    "temp_account = BankAccount()\n",
    "print(temp_account)"
   ]
  },
  {
   "cell_type": "code",
   "execution_count": 26,
   "metadata": {},
   "outputs": [
    {
     "name": "stdout",
     "output_type": "stream",
     "text": [
      "current balance: 200\n",
      "current balance: 170\n",
      "170\n",
      "0\n"
     ]
    }
   ],
   "source": [
    "account1 = BankAccount(100)\n",
    "account2 = BankAccount()\n",
    "\n",
    "account1.deposit(100)\n",
    "account1.withdraw(30)\n",
    "\n",
    "print(account1.balance)\n",
    "print(account2.balance)"
   ]
  },
  {
   "cell_type": "code",
   "execution_count": 3,
   "metadata": {},
   "outputs": [],
   "source": [
    "# Class -> Obj1, Obj2, Obj3"
   ]
  },
  {
   "cell_type": "code",
   "execution_count": 17,
   "metadata": {},
   "outputs": [
    {
     "name": "stdout",
     "output_type": "stream",
     "text": [
      "[1]\n"
     ]
    }
   ],
   "source": [
    "i = 1\n",
    "l = list()\n",
    "l.append(1)\n",
    "print(l)"
   ]
  },
  {
   "cell_type": "code",
   "execution_count": 35,
   "metadata": {},
   "outputs": [],
   "source": [
    "with open('abc.txt','w') as f:\n",
    "    f.write('hello world\\n')\n",
    "    f.write('im anthony')"
   ]
  },
  {
   "cell_type": "code",
   "execution_count": null,
   "metadata": {},
   "outputs": [],
   "source": [
    "f = open('abc2.txt','w')\n",
    "f.write('hello world\\n')\n",
    "f.write('im anthony')\n",
    "f.close()"
   ]
  }
 ],
 "metadata": {
  "kernelspec": {
   "display_name": "Python 3",
   "language": "python",
   "name": "python3"
  },
  "language_info": {
   "codemirror_mode": {
    "name": "ipython",
    "version": 3
   },
   "file_extension": ".py",
   "mimetype": "text/x-python",
   "name": "python",
   "nbconvert_exporter": "python",
   "pygments_lexer": "ipython3",
   "version": "3.7.3"
  }
 },
 "nbformat": 4,
 "nbformat_minor": 2
}
