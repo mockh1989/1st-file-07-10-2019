{
 "cells": [
  {
   "cell_type": "markdown",
   "metadata": {
    "colab_type": "text",
    "id": "Mu_tnS3dkPO2"
   },
   "source": [
    "![Image of Venturenix](http://www.venturenix.com//assets/images/venture-nix-logo.png)"
   ]
  },
  {
   "cell_type": "markdown",
   "metadata": {
    "colab_type": "text",
    "id": "oHGNvvLmkPO5"
   },
   "source": [
    "# Exercise 1\n",
    "Write a function to find the longest common prefix string amongst an array of strings.\n",
    "\n",
    "If there is no common prefix, return an empty string \"\".\n",
    "\n",
    "Example 1:\n",
    "\n",
    "- Input: [\"flower\",\"flow\",\"flight\"]\n",
    "- Output: \"fl\"\n",
    "\n",
    "Example 2:\n",
    "\n",
    "- Input: [\"dog\",\"racecar\",\"car\"]\n",
    "- Output: \"\""
   ]
  },
  {
   "cell_type": "code",
   "execution_count": null,
   "metadata": {
    "colab": {},
    "colab_type": "code",
    "id": "Hf5lq_S2kPO7",
    "outputId": "9b501f6a-f50c-43e7-ceaf-0f0bcef4dfba"
   },
   "outputs": [],
   "source": [
    "# input\n",
    "x, y, z = input(\"Enter three words.\").split(',') \n",
    "# check the mini word.\n",
    "print(check_prefix(check_min(x,y,z)))\n",
    "# check prefix"
   ]
  },
  {
   "cell_type": "code",
   "execution_count": null,
   "metadata": {},
   "outputs": [],
   "source": [
    "def check_min(x,y,z):\n",
    "    min_len = ''\n",
    "    if len(x) <= len(y) and len(x) <= len(z):\n",
    "        min_len = len(x)\n",
    "    elif len(y) <= len(x) and len(y) <= len(z):\n",
    "        min_len = len(y)\n",
    "    else:\n",
    "        min_len = len(z)\n",
    "    return int(min_len)"
   ]
  },
  {
   "cell_type": "code",
   "execution_count": null,
   "metadata": {
    "colab": {},
    "colab_type": "code",
    "id": "oFVGnyQxkPPA",
    "outputId": "b863ad7c-e9e5-4e8f-f1bc-0b1cd9a101bb"
   },
   "outputs": [],
   "source": [
    "def check_prefix(min_len):\n",
    "    prefix = list()\n",
    "    for i in range(min_len):\n",
    "        if x[i] == y[i] == z[i]:\n",
    "            prefix.append(x[i])\n",
    "        else:\n",
    "            break\n",
    "    return prefix\n",
    "        \n",
    "            "
   ]
  },
  {
   "cell_type": "markdown",
   "metadata": {
    "colab_type": "text",
    "id": "-NLcbnXWkPPD"
   },
   "source": [
    "# Exercise 2\n",
    "Write a Python program to get the Fibonacci series between 0 to i.\n",
    "i has to be >= 1 and is input by user.\n",
    "The Fibonnaci seqence is a sequence of numbers where the next number in the sequence is the sum of the previous two numbers in the sequence. The sequence looks like this: 1, 1, 2, 3, 5, 8, 13, …"
   ]
  },
  {
   "cell_type": "code",
   "execution_count": null,
   "metadata": {
    "colab": {},
    "colab_type": "code",
    "id": "DofCEQX7kPPE"
   },
   "outputs": [],
   "source": [
    "# Program to display the Fibonacci sequence up to n-th term where n is provided by the user\n",
    "\n",
    "# change this value for a different result\n",
    "nterms = 10\n",
    "\n",
    "# uncomment to take input from the user\n",
    "#nterms = int(input(\"How many terms? \"))\n",
    "\n",
    "# first two terms\n",
    "n1 = 0\n",
    "n2 = 1\n",
    "count = 0\n",
    "\n",
    "# check if the number of terms is valid\n",
    "if nterms <= 0:\n",
    "   print(\"Please enter a positive integer\")\n",
    "elif nterms == 1:\n",
    "   print(\"Fibonacci sequence upto\",nterms,\":\")\n",
    "   print(n1)\n",
    "else:\n",
    "   print(\"Fibonacci sequence upto\",nterms,\":\")\n",
    "   while count < nterms:\n",
    "       print(n1,end=' , ')\n",
    "       nth = n1 + n2\n",
    "       # update values\n",
    "       n1 = n2\n",
    "       n2 = nth\n",
    "       count += 1"
   ]
  },
  {
   "cell_type": "code",
   "execution_count": null,
   "metadata": {},
   "outputs": [],
   "source": [
    "# input number od term \n",
    "nterms = get_numeric_input()\n",
    "n1 = 0\n",
    "n2 = 1\n",
    "count = 0\n",
    "if nterms <= 0:\n",
    "   print(\"Please enter a positive integer\")\n",
    "elif nterms == 1:\n",
    "   print(\"Fibonacci sequence upto\",nterms,\":\")\n",
    "   print(n1)\n",
    "else:\n",
    "   print(\"Fibonacci sequence upto\",nterms,\":\")\n",
    "   while count < nterms-1:\n",
    "       print(n1,end=' , ')\n",
    "       nth = n1 + n2\n",
    "       # update values\n",
    "       n1 = n2\n",
    "       n2 = nth\n",
    "       count += 1\n",
    "print(n1)"
   ]
  },
  {
   "cell_type": "code",
   "execution_count": null,
   "metadata": {},
   "outputs": [],
   "source": [
    "def get_numeric_input():\n",
    "    nterms = 'X'\n",
    "    while not nterms.isdigit() :\n",
    "        nterms= input(\"Please enter the number od terms\")\n",
    "    return int(nterms)\n",
    "    "
   ]
  },
  {
   "cell_type": "code",
   "execution_count": null,
   "metadata": {},
   "outputs": [],
   "source": [
    "nterms = get_numeric_input()\n",
    "if nterms <= 0:\n",
    "   print(\"Plese enter a positive integer\")\n",
    "else:\n",
    "   print(\"Fibonacci sequence:\")\n",
    "   for i in range(nterms):\n",
    "       print(recur_fibo(i))"
   ]
  },
  {
   "cell_type": "code",
   "execution_count": null,
   "metadata": {},
   "outputs": [],
   "source": []
  },
  {
   "cell_type": "markdown",
   "metadata": {
    "colab_type": "text",
    "id": "ajkHl45VkPPI"
   },
   "source": [
    "# Exercise 3\n",
    "Write a program which can compute the factorial of a given numbers.\n",
    "The results should be printed in a comma-separated sequence on a single line.\n",
    "Suppose the following input is supplied to the program:\n",
    "8\n",
    "Then, the output should be:\n",
    "40320"
   ]
  },
  {
   "cell_type": "code",
   "execution_count": 9,
   "metadata": {
    "colab": {},
    "colab_type": "code",
    "id": "4q_akIXskPPK"
   },
   "outputs": [
    {
     "name": "stdout",
     "output_type": "stream",
     "text": [
      "Please enter the number od terms10\n",
      "1 , 2 , 6 , 24 , 120 , 720 , 5040 , 40320 , 362880 , 3628800\n"
     ]
    }
   ],
   "source": [
    "n = get_numeric_input()\n",
    "fact = 1\n",
    "for i in range(1,n): \n",
    "    fact = fact * i \n",
    "    print (fact,end=' , ') \n",
    "fact = fact * n \n",
    "print (fact)"
   ]
  },
  {
   "cell_type": "markdown",
   "metadata": {
    "colab_type": "text",
    "id": "7yGm6NyckPPM"
   },
   "source": [
    "## Exercise 4\n",
    "You are given a data structure of employee information, which includes the employee's unique id, his importance value and his direct subordinates' id.\n",
    "\n",
    "For example, employee 1 is the leader of employee 2, and employee 2 is the leader of employee 3. They have importance value 15, 10 and 5, respectively. Then employee 1 has a data structure like [1, 15, [2]], and employee 2 has [2, 10, [3]], and employee 3 has [3, 5, []]. Note that although employee 3 is also a subordinate of employee 1, the relationship is not direct.\n",
    "\n",
    "Now given the employee information of a company, and an employee id, you need to return the total importance value of this employee and all his subordinates.\n",
    "\n",
    "Example 1:\n",
    "\n",
    "- Input: [[1, 5, [2, 3]], [2, 3, []], [3, 3, []]], 1\n",
    "- Output: 11\n",
    "- Explanation:\n",
    "Employee 1 has importance value 5, and he has two direct subordinates: employee 2 and employee 3. They both have importance value 3. So the total importance value of employee 1 is 5 + 3 + 3 = 11."
   ]
  },
  {
   "cell_type": "code",
   "execution_count": 14,
   "metadata": {
    "colab": {},
    "colab_type": "code",
    "id": "t3dnk621kPPN",
    "outputId": "518db7de-7648-4388-a5ab-f8dd9f541821"
   },
   "outputs": [
    {
     "name": "stdout",
     "output_type": "stream",
     "text": [
      "{'Importance': 5, 'Sub': [2, 3]}\n",
      "{'Importance': 3, 'Sub': []}\n",
      "{'Importance': 3, 'Sub': []}\n",
      "11\n"
     ]
    }
   ],
   "source": [
    "Employee1 = {}\n",
    "Employee1['Importance'] = 5\n",
    "Employee1['Sub'] = [2,3]\n",
    "Employee2 = {}\n",
    "Employee2['Importance'] = 3\n",
    "Employee2['Sub'] = []\n",
    "Employee3 = {}\n",
    "Employee3['Importance'] = 3\n",
    "Employee3['Sub'] = []\n",
    "print(Employee1)\n",
    "print(Employee2)\n",
    "print(Employee3)\n",
    "print((Employee1['Importance'])+Employee2['Importance']+Employee3['Importance'])"
   ]
  },
  {
   "cell_type": "code",
   "execution_count": 108,
   "metadata": {},
   "outputs": [
    {
     "name": "stdout",
     "output_type": "stream",
     "text": [
      "{1: [5, [2, 3]], 2: [3, []], 3: [3, []]}\n",
      "3\n",
      "3\n",
      "11\n"
     ]
    }
   ],
   "source": [
    "Employee = {}\n",
    "\n",
    "Employee[1] = [5,[2,3]]\n",
    "Employee[2] = [3,[]]\n",
    "Employee[3] = [3,[]]\n",
    "print(Employee)\n",
    "print(Employee[Employee[1][1][0]][0])\n",
    "print(Employee[Employee[1][1][1]][0])\n",
    "print((Employee[1][0])+Employee[Employee[1][1][1]][0]+Employee[Employee[1][1][0]][0])"
   ]
  },
  {
   "cell_type": "code",
   "execution_count": 384,
   "metadata": {},
   "outputs": [
    {
     "name": "stdout",
     "output_type": "stream",
     "text": [
      "11\n"
     ]
    }
   ],
   "source": [
    "Answer([[[1, 5, [2, 3]], [2, 3, []], [3, 3, []]], 1])"
   ]
  },
  {
   "cell_type": "code",
   "execution_count": 373,
   "metadata": {},
   "outputs": [],
   "source": [
    "def Answer(ll):\n",
    "    #creat len(ll) number od dictionary\n",
    "    Employee = CreatDict(ll[0])\n",
    "    print(imporantce(Employee,Employee[ll[1]][1],ll[1]))"
   ]
  },
  {
   "cell_type": "code",
   "execution_count": 362,
   "metadata": {},
   "outputs": [],
   "source": [
    "def imporantce(Employee,m,number):\n",
    "    value = Employee[number][0]\n",
    "    for i in m:\n",
    "       value = value + Employee[i][0]\n",
    "    return value"
   ]
  },
  {
   "cell_type": "code",
   "execution_count": 360,
   "metadata": {},
   "outputs": [],
   "source": [
    "def CreatDict(ll):\n",
    "    #creat len(ll) number od dictionary\n",
    "    Employee = {}\n",
    "    for i in range(1,len(ll)+1):\n",
    "        Employee[i] = [ll[i-1][1],ll[i-1][2]]\n",
    "    return (Employee)"
   ]
  },
  {
   "cell_type": "code",
   "execution_count": null,
   "metadata": {},
   "outputs": [],
   "source": []
  }
 ],
 "metadata": {
  "colab": {
   "name": "04_exercise.ipynb",
   "provenance": [],
   "version": "0.3.2"
  },
  "kernelspec": {
   "display_name": "Python 3",
   "language": "python",
   "name": "python3"
  },
  "language_info": {
   "codemirror_mode": {
    "name": "ipython",
    "version": 3
   },
   "file_extension": ".py",
   "mimetype": "text/x-python",
   "name": "python",
   "nbconvert_exporter": "python",
   "pygments_lexer": "ipython3",
   "version": "3.7.3"
  }
 },
 "nbformat": 4,
 "nbformat_minor": 1
}
