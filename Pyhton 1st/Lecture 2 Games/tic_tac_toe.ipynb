{
 "cells": [
  {
   "cell_type": "code",
   "execution_count": 1,
   "metadata": {},
   "outputs": [],
   "source": [
    "# Create 3X3 game board, 0 = empty, 1 = player 1, 2 = player 2\n",
    "# input position for\n",
    "    # range 0 - 2 integer\n",
    "    # empoty position\n",
    "# show game board \n",
    "# check if anyone win\n",
    "    # check horizontal\n",
    "    # check vertical\n",
    "    # check diagonal\n",
    "# if win  => show won player\n",
    "# if not win \n",
    "    # if all filled => draw\n",
    "    # if not => input postition for another player"
   ]
  },
  {
   "cell_type": "code",
   "execution_count": 2,
   "metadata": {},
   "outputs": [],
   "source": [
    "import numpy as np"
   ]
  },
  {
   "cell_type": "code",
   "execution_count": 3,
   "metadata": {},
   "outputs": [
    {
     "data": {
      "text/plain": [
       "array([[0., 0., 0.],\n",
       "       [0., 0., 0.],\n",
       "       [0., 0., 0.]])"
      ]
     },
     "execution_count": 3,
     "metadata": {},
     "output_type": "execute_result"
    }
   ],
   "source": [
    "board = np.zeros((3,3))\n",
    "board"
   ]
  },
  {
   "cell_type": "code",
   "execution_count": 5,
   "metadata": {},
   "outputs": [
    {
     "data": {
      "text/plain": [
       "3"
      ]
     },
     "execution_count": 5,
     "metadata": {},
     "output_type": "execute_result"
    }
   ],
   "source": [
    "sum(board[:,2] == 0)"
   ]
  },
  {
   "cell_type": "code",
   "execution_count": 7,
   "metadata": {},
   "outputs": [
    {
     "name": "stdout",
     "output_type": "stream",
     "text": [
      "yes\n"
     ]
    }
   ],
   "source": [
    "if (0,0) in [(0,0)]:\n",
    "    print(\"yes\")"
   ]
  },
  {
   "cell_type": "code",
   "execution_count": 8,
   "metadata": {},
   "outputs": [],
   "source": [
    "diagonal_right = [(i, -i-1) for i in range(3)]"
   ]
  },
  {
   "cell_type": "code",
   "execution_count": 9,
   "metadata": {},
   "outputs": [
    {
     "data": {
      "text/plain": [
       "[(0, -1), (1, -2), (2, -3)]"
      ]
     },
     "execution_count": 9,
     "metadata": {},
     "output_type": "execute_result"
    }
   ],
   "source": [
    "diagonal_right"
   ]
  },
  {
   "cell_type": "code",
   "execution_count": 10,
   "metadata": {},
   "outputs": [],
   "source": [
    "def game_update(game_board, player, lower, upper):\n",
    "    row_input = \"X\"\n",
    "    col_input = \"X\"\n",
    "    while not row_input.isdigit() or not col_input.isdigit() or int(row_input) > upper or int(row_input) < lower or int(col_input) > upper or int(col_input) < lower or game_board[int(row_input),int(col_input)] != 0:\n",
    "        user_input = input('Player{}, Please enter your row,col position, e.g.0,0):'.format(str(player)))\n",
    "        input_list = user_input.split(\",\")\n",
    "        row_input = input_list[0]\n",
    "        col_input = input_list[1]\n",
    "    row_input = int(row_input)\n",
    "    col_input = int(col_input)\n",
    "    game_board[row_input,col_input] = player\n",
    "    return game_board, (row_input, col_input)"
   ]
  },
  {
   "cell_type": "code",
   "execution_count": 11,
   "metadata": {},
   "outputs": [],
   "source": [
    "def win_check(game_board, player, update_step, board_size):\n",
    "    #check horizontal\n",
    "    if len(set(game_board[update_step[0],])) == 1 and list(set(game_board[update_step[0],]))[0] == player:\n",
    "        return player\n",
    "    #Check vertical\n",
    "    elif len(set(game_board[:,update_step[1]])) == 1 and list(set(game_board[:,update_step[1]]))[0] == player:\n",
    "        return player\n",
    "    #cross check: left to right\n",
    "    elif len(set([game_board[i,i] for i in range(board_size)])) == 1 and list(set([game_board[i,i] for i in range(board_size)]))[0] == player:\n",
    "        return player\n",
    "    #cross check: right to left\n",
    "    elif len(set([game_board[i,-i-1] for i in range(board_size)])) == 1 and list(set([game_board[i,-i-1] for i in range(board_size)]))[0] == player:\n",
    "        return player\n",
    "    else:\n",
    "        return 0"
   ]
  },
  {
   "cell_type": "code",
   "execution_count": 12,
   "metadata": {},
   "outputs": [
    {
     "data": {
      "text/plain": [
       "0"
      ]
     },
     "execution_count": 12,
     "metadata": {},
     "output_type": "execute_result"
    }
   ],
   "source": [
    "len([])"
   ]
  },
  {
   "cell_type": "code",
   "execution_count": 13,
   "metadata": {},
   "outputs": [],
   "source": [
    "# initial State\n",
    "def tic_tac_toe(board_size):\n",
    "    player_1 = 1\n",
    "    player_2 = 2\n",
    "    game_board = np.zeros((board_size, board_size))\n",
    "    max_step = board_size\n",
    "    lower = 0\n",
    "    upper = board_size -1\n",
    "    step = 0\n",
    "    print(game_board)\n",
    "    continue_play = True\n",
    "    while continue_play:\n",
    "        for player in [1,2]:\n",
    "            game_board, update_step = game_update(game_board, player, lower, upper)\n",
    "            print(game_board)\n",
    "            game_status = win_check(game_board, player, update_step, board_size) #win lose draw?\n",
    "            step += 1\n",
    "            if game_status != 0:\n",
    "                print(\"Game ended, player{} wins!\".format(str(game_status)))\n",
    "                continue_play = False\n",
    "                break\n",
    "            if step == 9:\n",
    "                print(\"Draw game\")\n",
    "                continue_play = False\n",
    "                break\n",
    "            "
   ]
  },
  {
   "cell_type": "code",
   "execution_count": 15,
   "metadata": {},
   "outputs": [
    {
     "name": "stdout",
     "output_type": "stream",
     "text": [
      "[[0. 0. 0.]\n",
      " [0. 0. 0.]\n",
      " [0. 0. 0.]]\n",
      "Player1, Please enter your row,col position, e.g.0,0):1,2\n",
      "[[0. 0. 0.]\n",
      " [0. 0. 1.]\n",
      " [0. 0. 0.]]\n",
      "Player2, Please enter your row,col position, e.g.0,0):2,1\n",
      "[[0. 0. 0.]\n",
      " [0. 0. 1.]\n",
      " [0. 2. 0.]]\n",
      "Player1, Please enter your row,col position, e.g.0,0):1,1\n",
      "[[0. 0. 0.]\n",
      " [0. 1. 1.]\n",
      " [0. 2. 0.]]\n",
      "Player2, Please enter your row,col position, e.g.0,0):1,0\n",
      "[[0. 0. 0.]\n",
      " [2. 1. 1.]\n",
      " [0. 2. 0.]]\n",
      "Player1, Please enter your row,col position, e.g.0,0):3,1\n",
      "Player1, Please enter your row,col position, e.g.0,0):2,1\n",
      "Player1, Please enter your row,col position, e.g.0,0):2,2\n",
      "[[0. 0. 0.]\n",
      " [2. 1. 1.]\n",
      " [0. 2. 1.]]\n",
      "Player2, Please enter your row,col position, e.g.0,0):0,0\n",
      "[[2. 0. 0.]\n",
      " [2. 1. 1.]\n",
      " [0. 2. 1.]]\n",
      "Player1, Please enter your row,col position, e.g.0,0):0,2\n",
      "[[2. 0. 1.]\n",
      " [2. 1. 1.]\n",
      " [0. 2. 1.]]\n",
      "Game ended, player1 wins!\n"
     ]
    }
   ],
   "source": [
    "tic_tac_toe(3)"
   ]
  },
  {
   "cell_type": "markdown",
   "metadata": {},
   "source": [
    "## np.zeros((3,3)).shape"
   ]
  },
  {
   "cell_type": "code",
   "execution_count": null,
   "metadata": {},
   "outputs": [],
   "source": []
  }
 ],
 "metadata": {
  "kernelspec": {
   "display_name": "Python 3",
   "language": "python",
   "name": "python3"
  },
  "language_info": {
   "codemirror_mode": {
    "name": "ipython",
    "version": 3
   },
   "file_extension": ".py",
   "mimetype": "text/x-python",
   "name": "python",
   "nbconvert_exporter": "python",
   "pygments_lexer": "ipython3",
   "version": "3.7.3"
  }
 },
 "nbformat": 4,
 "nbformat_minor": 2
}
