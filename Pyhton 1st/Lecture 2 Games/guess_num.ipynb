{
 "cells": [
  {
   "cell_type": "code",
   "execution_count": null,
   "metadata": {},
   "outputs": [],
   "source": [
    "#1 set range, 1 - 99\n",
    "#2 random a ans\n",
    "#3 ask user to input number\n",
    "    # if it is not number , input again\n",
    "    # if it is not int within range, input again\n",
    "#4 check with answer\n",
    "    # guess>ans, upper => guess-1, go to #2\n",
    "    # guess<ans, lower => guess+1, go to #2\n",
    "    # ==, you win, program finished\n",
    "\n",
    "# max k times guessing"
   ]
  },
  {
   "cell_type": "code",
   "execution_count": 4,
   "metadata": {},
   "outputs": [],
   "source": [
    "import random"
   ]
  },
  {
   "cell_type": "code",
   "execution_count": 5,
   "metadata": {},
   "outputs": [],
   "source": [
    "def get_numeric_input(lower, upper):\n",
    "    user_input = \"X\"\n",
    "    while not user_input.isdigit() or int(user_input) < lower or int(user_input) > upper:\n",
    "        user_input = input('Please enter a number ({}-{}): '.format(lower, upper))\n",
    "    return int(user_input)"
   ]
  },
  {
   "cell_type": "code",
   "execution_count": 6,
   "metadata": {},
   "outputs": [],
   "source": [
    "def check_answer(guess_num, ans, lower, upper):\n",
    "    if guess_num > ans:\n",
    "        return lower, guess_num - 1\n",
    "    elif guess_num < ans:\n",
    "        return guess_num + 1, upper\n",
    "    else:\n",
    "        return None, None"
   ]
  },
  {
   "cell_type": "code",
   "execution_count": 7,
   "metadata": {},
   "outputs": [
    {
     "name": "stdout",
     "output_type": "stream",
     "text": [
      "Please enter a number (1-99): 50\n",
      "Please enter a number (1-49): 20\n",
      "Please enter a number (21-49): 40\n",
      "Please enter a number (21-39): 26\n",
      "You win!\n",
      "Game over\n"
     ]
    }
   ],
   "source": [
    "# set range\n",
    "lower = 1\n",
    "upper = 99\n",
    "max_trial = 5\n",
    "num_round = 0\n",
    "# set answer\n",
    "ans = random.randint(lower, upper)\n",
    "while num_round<5:\n",
    "    # ask user to input\n",
    "    guess_num = get_numeric_input(lower, upper)\n",
    "    # check answer \n",
    "    lower, upper = check_answer(guess_num, ans, lower, upper)\n",
    "    # check status\n",
    "    if lower is None:\n",
    "        print(\"You win!\")\n",
    "        break\n",
    "    num_round += 1\n",
    "print('Game over')"
   ]
  },
  {
   "cell_type": "code",
   "execution_count": 8,
   "metadata": {},
   "outputs": [
    {
     "name": "stdout",
     "output_type": "stream",
     "text": [
      "Please enter a number (1-99): 5\n",
      "Please enter a number (6-99): 70\n",
      "Please enter a number (6-69): 30\n",
      "Please enter a number (31-69): 50\n",
      "Please enter a number (51-69): 65\n",
      "Game over\n"
     ]
    }
   ],
   "source": [
    "# set range\n",
    "lower = 1\n",
    "upper = 99\n",
    "max_trial = 5\n",
    "# set answer\n",
    "ans = random.randint(lower, upper)\n",
    "for i in range(max_trial):\n",
    "    # ask user to input\n",
    "    guess_num = get_numeric_input(lower, upper)\n",
    "    # check answer \n",
    "    lower, upper = check_answer(guess_num, ans, lower, upper)\n",
    "    # check status\n",
    "    if lower is None:\n",
    "        print(\"You win!\")\n",
    "        break\n",
    "print('Game over')"
   ]
  },
  {
   "cell_type": "code",
   "execution_count": null,
   "metadata": {},
   "outputs": [],
   "source": []
  }
 ],
 "metadata": {
  "kernelspec": {
   "display_name": "Python 3",
   "language": "python",
   "name": "python3"
  },
  "language_info": {
   "codemirror_mode": {
    "name": "ipython",
    "version": 3
   },
   "file_extension": ".py",
   "mimetype": "text/x-python",
   "name": "python",
   "nbconvert_exporter": "python",
   "pygments_lexer": "ipython3",
   "version": "3.7.3"
  }
 },
 "nbformat": 4,
 "nbformat_minor": 2
}
